{
 "cells": [
  {
   "cell_type": "markdown",
   "metadata": {},
   "source": [
    "Alec Bowen \n",
    "Data Challenge 1"
   ]
  },
  {
   "cell_type": "markdown",
   "metadata": {},
   "source": [
    "In this data set, nine cell features were provided in order to determine whether the cell was cancerous or not. Since the classification of cancerous cells is a binary decision, logistic regression is a sensible first step for fitting a model. I initiially fit a logistic regression model on normalized data and validated it by using a five-fold cross validation. All metrics that I examined (accuracy, precision, and recall) were well above 90 %, indicating that logistic regression works well for this problem. \n",
    "\n",
    "I then examined the values of the features to see if any were irrelevant. By using a feature selector, I was able to reduce the number of features down to only three, while still maintaining the same level of accuracy, precision, and recall. "
   ]
  },
  {
   "cell_type": "code",
   "execution_count": 185,
   "metadata": {},
   "outputs": [],
   "source": [
    "import numpy as np\n",
    "import pandas as pd\n",
    "import matplotlib.pyplot as plt\n",
    "from sklearn.linear_model import LogisticRegression\n",
    "from sklearn.model_selection import train_test_split, KFold\n",
    "from sklearn.metrics import precision_score, recall_score\n",
    "from sklearn.preprocessing import StandardScaler\n",
    "from sklearn.feature_selection import SelectFromModel"
   ]
  },
  {
   "cell_type": "code",
   "execution_count": 186,
   "metadata": {},
   "outputs": [],
   "source": [
    "rawdata = pd.read_csv('cancer.data', names=[\"id\",\"clump_thickness\",\"size_uniformity\",\"shape_uniformity\",\"adhesion\",\"single_size\",\"bare_nuclei\",\"bland_chromatin\",\"normal_nucleoli\",\"mitoses\",\"class\"])"
   ]
  },
  {
   "cell_type": "markdown",
   "metadata": {},
   "source": [
    "The raw data has some issues. First, some of the data in the bare_nuclei column is missing. Second, the class is defined as 2 for benign and 4 for malignant. I am going to get rid of any row that is missing the bare_nuclei information, then I am going to convert the class column to a binary format, with 0 for benign and 1 for malignant."
   ]
  },
  {
   "cell_type": "code",
   "execution_count": 145,
   "metadata": {},
   "outputs": [
    {
     "name": "stderr",
     "output_type": "stream",
     "text": [
      "/home/alecbowen/.local/lib/python3.6/site-packages/ipykernel_launcher.py:5: SettingWithCopyWarning: \n",
      "A value is trying to be set on a copy of a slice from a DataFrame.\n",
      "Try using .loc[row_indexer,col_indexer] = value instead\n",
      "\n",
      "See the caveats in the documentation: http://pandas.pydata.org/pandas-docs/stable/user_guide/indexing.html#returning-a-view-versus-a-copy\n",
      "  \"\"\"\n"
     ]
    }
   ],
   "source": [
    "# Clean the data by removing all rows with question marks\n",
    "# Convert class to binary form \n",
    "rawdata[\"class\"] = rawdata[\"class\"].apply(lambda x: 1 if x==4 else 0)\n",
    "data = rawdata[rawdata.bare_nuclei!=\"?\"]\n",
    "data[\"bare_nuclei\"] = data[\"bare_nuclei\"].apply(lambda x: int(x))"
   ]
  },
  {
   "cell_type": "code",
   "execution_count": 187,
   "metadata": {},
   "outputs": [
    {
     "data": {
      "text/html": [
       "<div>\n",
       "<style scoped>\n",
       "    .dataframe tbody tr th:only-of-type {\n",
       "        vertical-align: middle;\n",
       "    }\n",
       "\n",
       "    .dataframe tbody tr th {\n",
       "        vertical-align: top;\n",
       "    }\n",
       "\n",
       "    .dataframe thead th {\n",
       "        text-align: right;\n",
       "    }\n",
       "</style>\n",
       "<table border=\"1\" class=\"dataframe\">\n",
       "  <thead>\n",
       "    <tr style=\"text-align: right;\">\n",
       "      <th></th>\n",
       "      <th>id</th>\n",
       "      <th>clump_thickness</th>\n",
       "      <th>size_uniformity</th>\n",
       "      <th>shape_uniformity</th>\n",
       "      <th>adhesion</th>\n",
       "      <th>single_size</th>\n",
       "      <th>bare_nuclei</th>\n",
       "      <th>bland_chromatin</th>\n",
       "      <th>normal_nucleoli</th>\n",
       "      <th>mitoses</th>\n",
       "      <th>class</th>\n",
       "    </tr>\n",
       "  </thead>\n",
       "  <tbody>\n",
       "    <tr>\n",
       "      <td>0</td>\n",
       "      <td>1000025</td>\n",
       "      <td>5</td>\n",
       "      <td>1</td>\n",
       "      <td>1</td>\n",
       "      <td>1</td>\n",
       "      <td>2</td>\n",
       "      <td>1</td>\n",
       "      <td>3</td>\n",
       "      <td>1</td>\n",
       "      <td>1</td>\n",
       "      <td>0</td>\n",
       "    </tr>\n",
       "    <tr>\n",
       "      <td>1</td>\n",
       "      <td>1002945</td>\n",
       "      <td>5</td>\n",
       "      <td>4</td>\n",
       "      <td>4</td>\n",
       "      <td>5</td>\n",
       "      <td>7</td>\n",
       "      <td>10</td>\n",
       "      <td>3</td>\n",
       "      <td>2</td>\n",
       "      <td>1</td>\n",
       "      <td>0</td>\n",
       "    </tr>\n",
       "    <tr>\n",
       "      <td>2</td>\n",
       "      <td>1015425</td>\n",
       "      <td>3</td>\n",
       "      <td>1</td>\n",
       "      <td>1</td>\n",
       "      <td>1</td>\n",
       "      <td>2</td>\n",
       "      <td>2</td>\n",
       "      <td>3</td>\n",
       "      <td>1</td>\n",
       "      <td>1</td>\n",
       "      <td>0</td>\n",
       "    </tr>\n",
       "    <tr>\n",
       "      <td>3</td>\n",
       "      <td>1016277</td>\n",
       "      <td>6</td>\n",
       "      <td>8</td>\n",
       "      <td>8</td>\n",
       "      <td>1</td>\n",
       "      <td>3</td>\n",
       "      <td>4</td>\n",
       "      <td>3</td>\n",
       "      <td>7</td>\n",
       "      <td>1</td>\n",
       "      <td>0</td>\n",
       "    </tr>\n",
       "    <tr>\n",
       "      <td>4</td>\n",
       "      <td>1017023</td>\n",
       "      <td>4</td>\n",
       "      <td>1</td>\n",
       "      <td>1</td>\n",
       "      <td>3</td>\n",
       "      <td>2</td>\n",
       "      <td>1</td>\n",
       "      <td>3</td>\n",
       "      <td>1</td>\n",
       "      <td>1</td>\n",
       "      <td>0</td>\n",
       "    </tr>\n",
       "    <tr>\n",
       "      <td>...</td>\n",
       "      <td>...</td>\n",
       "      <td>...</td>\n",
       "      <td>...</td>\n",
       "      <td>...</td>\n",
       "      <td>...</td>\n",
       "      <td>...</td>\n",
       "      <td>...</td>\n",
       "      <td>...</td>\n",
       "      <td>...</td>\n",
       "      <td>...</td>\n",
       "      <td>...</td>\n",
       "    </tr>\n",
       "    <tr>\n",
       "      <td>694</td>\n",
       "      <td>776715</td>\n",
       "      <td>3</td>\n",
       "      <td>1</td>\n",
       "      <td>1</td>\n",
       "      <td>1</td>\n",
       "      <td>3</td>\n",
       "      <td>2</td>\n",
       "      <td>1</td>\n",
       "      <td>1</td>\n",
       "      <td>1</td>\n",
       "      <td>0</td>\n",
       "    </tr>\n",
       "    <tr>\n",
       "      <td>695</td>\n",
       "      <td>841769</td>\n",
       "      <td>2</td>\n",
       "      <td>1</td>\n",
       "      <td>1</td>\n",
       "      <td>1</td>\n",
       "      <td>2</td>\n",
       "      <td>1</td>\n",
       "      <td>1</td>\n",
       "      <td>1</td>\n",
       "      <td>1</td>\n",
       "      <td>0</td>\n",
       "    </tr>\n",
       "    <tr>\n",
       "      <td>696</td>\n",
       "      <td>888820</td>\n",
       "      <td>5</td>\n",
       "      <td>10</td>\n",
       "      <td>10</td>\n",
       "      <td>3</td>\n",
       "      <td>7</td>\n",
       "      <td>3</td>\n",
       "      <td>8</td>\n",
       "      <td>10</td>\n",
       "      <td>2</td>\n",
       "      <td>1</td>\n",
       "    </tr>\n",
       "    <tr>\n",
       "      <td>697</td>\n",
       "      <td>897471</td>\n",
       "      <td>4</td>\n",
       "      <td>8</td>\n",
       "      <td>6</td>\n",
       "      <td>4</td>\n",
       "      <td>3</td>\n",
       "      <td>4</td>\n",
       "      <td>10</td>\n",
       "      <td>6</td>\n",
       "      <td>1</td>\n",
       "      <td>1</td>\n",
       "    </tr>\n",
       "    <tr>\n",
       "      <td>698</td>\n",
       "      <td>897471</td>\n",
       "      <td>4</td>\n",
       "      <td>8</td>\n",
       "      <td>8</td>\n",
       "      <td>5</td>\n",
       "      <td>4</td>\n",
       "      <td>5</td>\n",
       "      <td>10</td>\n",
       "      <td>4</td>\n",
       "      <td>1</td>\n",
       "      <td>1</td>\n",
       "    </tr>\n",
       "  </tbody>\n",
       "</table>\n",
       "<p>683 rows × 11 columns</p>\n",
       "</div>"
      ],
      "text/plain": [
       "          id  clump_thickness  size_uniformity  shape_uniformity  adhesion  \\\n",
       "0    1000025                5                1                 1         1   \n",
       "1    1002945                5                4                 4         5   \n",
       "2    1015425                3                1                 1         1   \n",
       "3    1016277                6                8                 8         1   \n",
       "4    1017023                4                1                 1         3   \n",
       "..       ...              ...              ...               ...       ...   \n",
       "694   776715                3                1                 1         1   \n",
       "695   841769                2                1                 1         1   \n",
       "696   888820                5               10                10         3   \n",
       "697   897471                4                8                 6         4   \n",
       "698   897471                4                8                 8         5   \n",
       "\n",
       "     single_size  bare_nuclei  bland_chromatin  normal_nucleoli  mitoses  \\\n",
       "0              2            1                3                1        1   \n",
       "1              7           10                3                2        1   \n",
       "2              2            2                3                1        1   \n",
       "3              3            4                3                7        1   \n",
       "4              2            1                3                1        1   \n",
       "..           ...          ...              ...              ...      ...   \n",
       "694            3            2                1                1        1   \n",
       "695            2            1                1                1        1   \n",
       "696            7            3                8               10        2   \n",
       "697            3            4               10                6        1   \n",
       "698            4            5               10                4        1   \n",
       "\n",
       "     class  \n",
       "0        0  \n",
       "1        0  \n",
       "2        0  \n",
       "3        0  \n",
       "4        0  \n",
       "..     ...  \n",
       "694      0  \n",
       "695      0  \n",
       "696      1  \n",
       "697      1  \n",
       "698      1  \n",
       "\n",
       "[683 rows x 11 columns]"
      ]
     },
     "execution_count": 187,
     "metadata": {},
     "output_type": "execute_result"
    }
   ],
   "source": [
    "#The data is now in the correct format\n",
    "data"
   ]
  },
  {
   "cell_type": "code",
   "execution_count": 188,
   "metadata": {},
   "outputs": [
    {
     "data": {
      "text/html": [
       "<div>\n",
       "<style scoped>\n",
       "    .dataframe tbody tr th:only-of-type {\n",
       "        vertical-align: middle;\n",
       "    }\n",
       "\n",
       "    .dataframe tbody tr th {\n",
       "        vertical-align: top;\n",
       "    }\n",
       "\n",
       "    .dataframe thead th {\n",
       "        text-align: right;\n",
       "    }\n",
       "</style>\n",
       "<table border=\"1\" class=\"dataframe\">\n",
       "  <thead>\n",
       "    <tr style=\"text-align: right;\">\n",
       "      <th></th>\n",
       "      <th>id</th>\n",
       "      <th>clump_thickness</th>\n",
       "      <th>size_uniformity</th>\n",
       "      <th>shape_uniformity</th>\n",
       "      <th>adhesion</th>\n",
       "      <th>single_size</th>\n",
       "      <th>bare_nuclei</th>\n",
       "      <th>bland_chromatin</th>\n",
       "      <th>normal_nucleoli</th>\n",
       "      <th>mitoses</th>\n",
       "    </tr>\n",
       "    <tr>\n",
       "      <th>class</th>\n",
       "      <th></th>\n",
       "      <th></th>\n",
       "      <th></th>\n",
       "      <th></th>\n",
       "      <th></th>\n",
       "      <th></th>\n",
       "      <th></th>\n",
       "      <th></th>\n",
       "      <th></th>\n",
       "      <th></th>\n",
       "    </tr>\n",
       "  </thead>\n",
       "  <tbody>\n",
       "    <tr>\n",
       "      <td>0</td>\n",
       "      <td>444</td>\n",
       "      <td>444</td>\n",
       "      <td>444</td>\n",
       "      <td>444</td>\n",
       "      <td>444</td>\n",
       "      <td>444</td>\n",
       "      <td>444</td>\n",
       "      <td>444</td>\n",
       "      <td>444</td>\n",
       "      <td>444</td>\n",
       "    </tr>\n",
       "    <tr>\n",
       "      <td>1</td>\n",
       "      <td>239</td>\n",
       "      <td>239</td>\n",
       "      <td>239</td>\n",
       "      <td>239</td>\n",
       "      <td>239</td>\n",
       "      <td>239</td>\n",
       "      <td>239</td>\n",
       "      <td>239</td>\n",
       "      <td>239</td>\n",
       "      <td>239</td>\n",
       "    </tr>\n",
       "  </tbody>\n",
       "</table>\n",
       "</div>"
      ],
      "text/plain": [
       "        id  clump_thickness  size_uniformity  shape_uniformity  adhesion  \\\n",
       "class                                                                      \n",
       "0      444              444              444               444       444   \n",
       "1      239              239              239               239       239   \n",
       "\n",
       "       single_size  bare_nuclei  bland_chromatin  normal_nucleoli  mitoses  \n",
       "class                                                                       \n",
       "0              444          444              444              444      444  \n",
       "1              239          239              239              239      239  "
      ]
     },
     "execution_count": 188,
     "metadata": {},
     "output_type": "execute_result"
    }
   ],
   "source": [
    "data.groupby('class').count()"
   ]
  },
  {
   "cell_type": "markdown",
   "metadata": {},
   "source": [
    "Both positive and negative examples of the data are pretty well represented, so I am not going to use any oversampling or undersampling procedures to enhance the data. \n",
    "\n",
    "Below I am defining a function that does 5-fold cross validation while keeping track of accuracy, precision, and recall along the way. It will also output the average and stdev of the coefficients."
   ]
  },
  {
   "cell_type": "code",
   "execution_count": 189,
   "metadata": {},
   "outputs": [],
   "source": [
    "#Calculate some statistics for my model\n",
    "#Accuracy and mean absolute error\n",
    "def cross_validation(x,y,k):\n",
    "    kf = KFold(n_splits=k,random_state=None,shuffle=True)\n",
    "    acc = 0.0\n",
    "    count = 0.0\n",
    "    prec = 0.0\n",
    "    rec = 0.0\n",
    "    num_c = len(x[0])\n",
    "    coefficients = np.zeros(num_c)\n",
    "    intercept = 0.0\n",
    "    for train_index, test_index in kf.split(x):\n",
    "        x_train,x_test = x[train_index],x[test_index]\n",
    "        y_train,y_test = y.iloc[train_index],y.iloc[test_index]\n",
    "        model = LogisticRegression(random_state=None,solver='lbfgs',multi_class='multinomial').fit(x_train,y_train)\n",
    "        a = model.score(x_test,y_test)\n",
    "        y_pred = model.predict(x_test)\n",
    "        p = precision_score(y_test,y_pred)\n",
    "        r = recall_score(y_test,y_pred)\n",
    "        acc += a\n",
    "        prec +=  p\n",
    "        rec += r\n",
    "        count += 1\n",
    "        coefficients += np.array(model.coef_[0])\n",
    "        intercept += model.intercept_[0]\n",
    "        #print(\"Accuracy: \",a)\n",
    "        #print(\"Precision: \",p)\n",
    "        #print(\"Recall: \", r)\n",
    "        #print(\"Coefficients: \",model.coef_)\n",
    "        #print(\"Intercepts: \",model.intercept_)\n",
    "    return [acc/count,prec/count,rec/count,coefficients/count,intercept/count]\n",
    "        \n",
    "    \n",
    "        "
   ]
  },
  {
   "cell_type": "markdown",
   "metadata": {},
   "source": [
    "Below, I am going to normalize the data, so the logistic regression coefficients are a little easier to interpret. "
   ]
  },
  {
   "cell_type": "code",
   "execution_count": 205,
   "metadata": {},
   "outputs": [
    {
     "data": {
      "text/plain": [
       "array([[ 0.19790469, -0.70221201, -0.74177362, ..., -0.18182716,\n",
       "        -0.61292736, -0.34839971],\n",
       "       [ 0.19790469,  0.27725185,  0.26278299, ..., -0.18182716,\n",
       "        -0.28510482, -0.34839971],\n",
       "       [-0.51164337, -0.70221201, -0.74177362, ..., -0.18182716,\n",
       "        -0.61292736, -0.34839971],\n",
       "       ...,\n",
       "       [ 0.19790469,  2.23617957,  2.2718962 , ...,  1.86073779,\n",
       "         2.33747554,  0.22916583],\n",
       "       [-0.15686934,  1.58320366,  0.93248739, ...,  2.67776377,\n",
       "         1.02618536, -0.34839971],\n",
       "       [-0.15686934,  1.58320366,  1.6021918 , ...,  2.67776377,\n",
       "         0.37054027, -0.34839971]])"
      ]
     },
     "execution_count": 205,
     "metadata": {},
     "output_type": "execute_result"
    }
   ],
   "source": [
    "X1 = data[[\"clump_thickness\",\"size_uniformity\",\"shape_uniformity\",\"adhesion\",\"single_size\",\"bare_nuclei\",\"bland_chromatin\",\"normal_nucleoli\",\"mitoses\"]]\n",
    "Y = data[\"class\"]\n",
    "scaler = StandardScaler()\n",
    "scaler.fit(X1)\n",
    "X = scaler.transform(X1)\n",
    "X"
   ]
  },
  {
   "cell_type": "code",
   "execution_count": 206,
   "metadata": {},
   "outputs": [
    {
     "name": "stdout",
     "output_type": "stream",
     "text": [
      "0.9663160154572779\n",
      "0.9560456697884879\n",
      "0.9491568627450981\n"
     ]
    }
   ],
   "source": [
    "# Five-fold cross-validation\n",
    "# Identify the coefficients that vary in sign\n",
    "# They do not produce a strong signal and can be eliminated\n",
    "acc, prec, rec, coeffs, inter = cross_validation(X,Y,5)\n",
    "print(acc)\n",
    "print(prec)\n",
    "print(rec)"
   ]
  },
  {
   "cell_type": "code",
   "execution_count": 192,
   "metadata": {},
   "outputs": [
    {
     "data": {
      "image/png": "[encoded data removed]",
      "text/plain": [
       "<Figure size 432x288 with 1 Axes>"
      ]
     },
     "metadata": {
      "needs_background": "light"
     },
     "output_type": "display_data"
    }
   ],
   "source": [
    "features = [\"clump_thickness\",\"size_uniformity\",\"shape_uniformity\",\"adhesion\",\"single_size\",\"bare_nuclei\",\"bland_chromatin\",\"normal_nucleoli\",\"mitoses\"]\n",
    "def make_feature_plot(features,coeffs):\n",
    "    x_label = np.arange(len(features))\n",
    "    plt.bar(x_label,coeffs,edgecolor=\"k\",linewidth=2)\n",
    "    plt.tick_params(axis=\"both\",which=\"major\",labelsize=12)\n",
    "    plt.xticks(x_label,features,fontsize=8,rotation=\"vertical\")\n",
    "    plt.ylabel(\"Logistic Regression Coefficient\")\n",
    "    plt.show()\n",
    "    \n",
    "make_feature_plot(features,coeffs)"
   ]
  },
  {
   "cell_type": "markdown",
   "metadata": {},
   "source": [
    "The above plot shows the relative importance of the separate features within the logistic regression model. clump_thickness seems to have the biggest effect on the outcome followed by bare_nuclei. size_uniformity appears to have the smallest effect. Now I will use a feature selector to see if there is anything worth eliminating, as in it has very little effect on the fit if it is removed.  "
   ]
  },
  {
   "cell_type": "code",
   "execution_count": 193,
   "metadata": {},
   "outputs": [],
   "source": [
    "lg = LogisticRegression(random_state=None,solver='lbfgs',multi_class='multinomial').fit(X,Y)\n"
   ]
  },
  {
   "cell_type": "code",
   "execution_count": 194,
   "metadata": {},
   "outputs": [],
   "source": [
    "def stats_for_features(lg,x,y,thresh):\n",
    "    slg = SelectFromModel(lg,threshold=thresh)\n",
    "    slg.fit(X,Y)\n",
    "    X_red = slg.transform(X)\n",
    "    n = X_red.shape[1]\n",
    "    acc, prec, rec, coeffs, inter = cross_validation(X_red,Y,5)\n",
    "    feature_idx = slg.get_support()\n",
    "    feature_idx = np.insert(feature_idx,0,False)\n",
    "    feature_idx = np.append(feature_idx,False)\n",
    "    print(\"Number of Features\",n)\n",
    "    print(\"Accuracy: \",acc)\n",
    "    print(\"Precision: \",prec)\n",
    "    print(\"Recall\", rec)\n",
    "    return n,acc,prec,rec,coeffs,feature_idx"
   ]
  },
  {
   "cell_type": "code",
   "execution_count": 195,
   "metadata": {},
   "outputs": [
    {
     "name": "stdout",
     "output_type": "stream",
     "text": [
      "Number of Features 7\n",
      "Accuracy:  0.9678080721339631\n",
      "Precision:  0.9576086956521739\n",
      "Recall 0.950142136109126\n"
     ]
    },
    {
     "data": {
      "text/plain": [
       "(7,\n",
       " 0.9678080721339631,\n",
       " 0.9576086956521739,\n",
       " 0.950142136109126,\n",
       " array([0.7068007 , 0.51894351, 0.46547558, 0.69016305, 0.53884018,\n",
       "        0.35059013, 0.39377368]),\n",
       " array([False,  True, False,  True,  True, False,  True,  True,  True,\n",
       "         True, False]))"
      ]
     },
     "execution_count": 195,
     "metadata": {},
     "output_type": "execute_result"
    }
   ],
   "source": [
    "stats_for_features(lg,X,Y,0.25)"
   ]
  },
  {
   "cell_type": "code",
   "execution_count": 196,
   "metadata": {},
   "outputs": [
    {
     "name": "stdout",
     "output_type": "stream",
     "text": [
      "Number of Features 3\n",
      "Accuracy:  0.9619579218548733\n",
      "Precision:  0.9537810654036507\n",
      "Recall 0.9377139914349216\n"
     ]
    },
    {
     "data": {
      "text/plain": [
       "(3,\n",
       " 0.9619579218548733,\n",
       " 0.9537810654036507,\n",
       " 0.9377139914349216,\n",
       " array([1.05042914, 1.00817567, 0.92126104]),\n",
       " array([False,  True, False, False, False, False,  True,  True, False,\n",
       "        False, False]))"
      ]
     },
     "execution_count": 196,
     "metadata": {},
     "output_type": "execute_result"
    }
   ],
   "source": [
    "stats_for_features(lg,X,Y,0.5)"
   ]
  },
  {
   "cell_type": "code",
   "execution_count": 197,
   "metadata": {},
   "outputs": [
    {
     "name": "stdout",
     "output_type": "stream",
     "text": [
      "Number of Features 2\n",
      "Accuracy:  0.9472735079433233\n",
      "Precision:  0.9465938589793854\n",
      "Recall 0.8980897465705648\n"
     ]
    },
    {
     "data": {
      "text/plain": [
       "(2,\n",
       " 0.9472735079433233,\n",
       " 0.9465938589793854,\n",
       " 0.8980897465705648,\n",
       " array([1.1808992 , 1.36431242]),\n",
       " array([False,  True, False, False, False, False,  True, False, False,\n",
       "        False, False]))"
      ]
     },
     "execution_count": 197,
     "metadata": {},
     "output_type": "execute_result"
    }
   ],
   "source": [
    "stats_for_features(lg,X,Y,0.6)"
   ]
  },
  {
   "cell_type": "code",
   "execution_count": 198,
   "metadata": {},
   "outputs": [
    {
     "name": "stdout",
     "output_type": "stream",
     "text": [
      "Number of Features 3\n",
      "Accuracy:  0.963439244310863\n",
      "Precision:  0.9498956916099773\n",
      "Recall 0.9454812185743864\n"
     ]
    }
   ],
   "source": [
    "n,acc,prec,rec,coeffs,feature_idx = stats_for_features(lg,X,Y,0.5)"
   ]
  },
  {
   "cell_type": "markdown",
   "metadata": {},
   "source": [
    "I can get down to three features with almost no sacrifice in accuracy, precision, or recall. I am going to plot the coefficients from using only these three."
   ]
  },
  {
   "cell_type": "code",
   "execution_count": 199,
   "metadata": {},
   "outputs": [],
   "source": [
    "features2 = list(data.columns[feature_idx])"
   ]
  },
  {
   "cell_type": "code",
   "execution_count": 200,
   "metadata": {},
   "outputs": [
    {
     "data": {
      "image/png": "[encoded data removed]",
      "text/plain": [
       "<Figure size 432x288 with 1 Axes>"
      ]
     },
     "metadata": {
      "needs_background": "light"
     },
     "output_type": "display_data"
    }
   ],
   "source": [
    "make_feature_plot(features2,coeffs)"
   ]
  },
  {
   "cell_type": "markdown",
   "metadata": {},
   "source": [
    "One final check to make sure I have done everything correctly: I'm going to fit a new model only on these features and see if it does well in cross validation."
   ]
  },
  {
   "cell_type": "code",
   "execution_count": 207,
   "metadata": {},
   "outputs": [],
   "source": [
    "X1 = data[[\"clump_thickness\",\"bare_nuclei\",\"bland_chromatin\"]]\n",
    "#X1\n",
    "Y = data[\"class\"]\n",
    "scaler = StandardScaler()\n",
    "scaler.fit(X1)\n",
    "X = scaler.transform(X1)\n",
    "#X"
   ]
  },
  {
   "cell_type": "code",
   "execution_count": 209,
   "metadata": {},
   "outputs": [
    {
     "name": "stdout",
     "output_type": "stream",
     "text": [
      "0.9634070416487763\n",
      "0.9526537945937295\n",
      "0.9410450277823724\n"
     ]
    }
   ],
   "source": [
    "acc, prec, rec, coeffs, inter = cross_validation(X,Y,5)\n",
    "print(acc)\n",
    "print(prec)\n",
    "print(rec)"
   ]
  },
  {
   "cell_type": "markdown",
   "metadata": {},
   "source": [
    "There is effectively no change in the accuracy, precision, and recall using only these three features as compared to using the full set.\n",
    "\n",
    "In conclusion, a simple logistic regression model on this data provides a high accuracy, high precision, and high recall predictor of cell malignancy using only three features from the initial data set. This model is nice because it has high explanatory power, showing that the three highlighted features are sufficient to indicate malignancy in about 95% of cases. "
   ]
  }
 ],
 "metadata": {
  "kernelspec": {
   "display_name": "Python 3",
   "language": "python",
   "name": "python3"
  },
  "language_info": {
   "codemirror_mode": {
    "name": "ipython",
    "version": 3
   },
   "file_extension": ".py",
   "mimetype": "text/x-python",
   "name": "python",
   "nbconvert_exporter": "python",
   "pygments_lexer": "ipython3",
   "version": "3.6.8"
  }
 },
 "nbformat": 4,
 "nbformat_minor": 2
}
